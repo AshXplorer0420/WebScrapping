{
 "cells": [
  {
   "cell_type": "code",
   "execution_count": 51,
   "id": "4252239f-2066-4e47-821e-4cdca2effadd",
   "metadata": {},
   "outputs": [],
   "source": [
    "import pandas as pd\n",
    "import requests\n",
    "from bs4 import BeautifulSoup"
   ]
  },
  {
   "cell_type": "code",
   "execution_count": 52,
   "id": "6cf91893-8301-4412-8d57-a5ab7c82bec1",
   "metadata": {},
   "outputs": [],
   "source": [
    "url = \"https://remoteok.com/remote-dev+python-jobs\"\n",
    "headers = {\n",
    "    \"User-Agent\": \"Mozilla/5.0\"\n",
    "}\n"
   ]
  },
  {
   "cell_type": "code",
   "execution_count": 53,
   "id": "2120e309-42db-4bf0-8ae8-fc3a99ea6fdb",
   "metadata": {},
   "outputs": [
    {
     "name": "stdout",
     "output_type": "stream",
     "text": [
      "403\n"
     ]
    }
   ],
   "source": [
    "response = requests.get(url, headers=headers)\n",
    "print(response.status_code)\n"
   ]
  },
  {
   "cell_type": "code",
   "execution_count": 54,
   "id": "8ba294b7-9fb9-4caf-abea-36251b5cfc7a",
   "metadata": {},
   "outputs": [
    {
     "name": "stdout",
     "output_type": "stream",
     "text": [
      "<!DOCTYPE html>\n",
      "<html lang=\"en-US\"><head><title>Just a moment...</title><meta content=\"text/html; charset=utf-8\" http-equiv=\"Content-Type\"/><meta content=\"IE=Edge\" http-equiv=\"X-UA-Compatible\"/><meta content=\"noindex,nofollow\" name=\"robots\"/><meta content=\"width=device-width,initial-scale=1\" name=\"viewport\"/><style>*{box-sizing:border-box;margin:0;padding:0}html{line-height:1.15;-webkit-text-size-adjust:100%;color:#313131;font-family:system-ui,-apple-system,BlinkMacSystemFont,\"Segoe UI\",Roboto,\"Helvetica Neue\",Arial,\"Noto Sans\",sans-serif,\"Apple Color Emoji\",\"Segoe UI Emoji\",\"Segoe UI Symbol\",\"Noto Color Emoji\"}body{display:flex;flex-direction:column;height:100vh;min-height:100vh}.main-content{margin:8rem auto;padding-left:1.5rem;max-width:60rem}@media (width <= 720px){.main-content{margin-top:4rem}}.h2{line-height:2.25rem;font-size:1.5rem;font-weight:500}@media (width <= 720px){.h2{line-height:1.5rem;font-size:1.25rem}}#challenge-error-text{background-image:url(\"data:image/svg+xml;base64,PHN2ZyB4bWxucz0iaHR0cDovL3d3dy53My5vcmcvMjAwMC9zdmciIHdpZHRoPSIzMiIgaGVpZ2h0PSIzMiIgZmlsbD0ibm9uZSI+PHBhdGggZmlsbD0iI0IyMEYwMyIgZD0iTTE2IDNhMTMgMTMgMCAxIDAgMTMgMTNBMTMuMDE1IDEzLjAxNSAwIDAgMCAxNiAzbTAgMjRhMTEgMTEgMCAxIDEgMTEtMTEgMTEuMDEgMTEuMDEgMCAwIDEtMTEgMTEiLz48cGF0aCBmaWxsPSIjQjIwRjAzIiBkPSJNMTcuMDM4IDE4LjYxNUgxNC44N0wxNC41NjMgOS41aDIuNzgzem0tMS4wODQgMS40MjdxLjY2IDAgMS4wNTcuMzg4LjQwNy4zODkuNDA3Ljk5NCAwIC41OTYtLjQwNy45ODQtLjM5Ny4zOS0xLjA1Ny4zODktLjY1IDAtMS4wNTYtLjM4OS0uMzk4LS4zODktLjM5OC0uOTg0IDAtLjU5Ny4zOTgtLjk4NS40MDYtLjM5NyAxLjA1Ni0uMzk3Ii8+PC9zdmc+\");background-repeat:no-repeat;background-size:contain;padding-left:34px}@media (prefers-color-scheme: dark){body{background-color:#222;color:#d9d9d9}}</style><meta content=\"360\" http-equiv=\"refresh\"/></head><body><div class=\"main-wrapper\" role=\"main\"><div class=\"main-content\"><noscript><div class=\"h2\"><span id=\"challenge-error-text\">Enable JavaScript and cookies to continue</span></div></noscript></div></div><script>(function(){window._cf_chl_opt = {cvId: '3',cZone: 'remoteok.com',cType: 'managed',cRay: '9771d15c9bee801c',cH: 'hW.NXn.5r9QyUmCpO54VRKREGaJf2nvsXsrE.tJIMQk-1756531004-1.2.1.1-gATjAouqNqRfiVW7UrLjh9eK7O4MMGAheAFpMrwZvmmWqZnAhrfLOS4X1L9S9vk3',cUPMDTk:\"/remote-dev+python-jobs?__cf_chl_tk=l3udeHpY..N9wxiLTD0xOlLRYUpAAIGwToKaER0xT3M-1756531004-1.0.1.1-eYSTm86NMRA0kI.pCRskzaRbCFjjK_.fyZkbS2Xca9g\",cFPWv: 'b',cITimeS: '1756531004',cTplC:0,cTplV:5,cTplB: 'cf',fa:\"/remote-dev+python-jobs?__cf_chl_f_tk=l3udeHpY..N9wxiLTD0xOlLRYUpAAIGwToKaER0xT3M-1756531004-1.0.1.1-eYSTm86NMRA0kI.pCRskzaRbCFjjK_.fyZkbS2Xca9g\",md: 'lECF5miEO30dVK_rHAS5eQvyxBx_PlZPFO_6UmU7DU8-1756531004-1.2.1.1-zXTUHmLc3nHKwIsQkW8ecQ9E7uzNMVE33.BoZs.qQGeOR9xr1wL.P7_9vetVzhh3SJ1wD3wbPnrsgg2KNI5qPDWzBWH.Y4BNmHzvHzvlWcGUZ162U1vkl3yZuRCOX5ua3X2koi5i7Ya2NDkRVhxrhhq_z5xHNju.M92TOIsn4dBJU8XHvAyxgjxjUhal12.Hum_FDmab5uaaeroQY2jOcHRLZRNJzAFCqqdSZ7E8EdyWQY9.q46y489D.OTlfzWjQVy4H3hXqkJjqXm8N4R3n5uhEHT7OHGVTMzOr2aqPKmV7dTh3jP8GBDc_5td8awd1uwKV54Kedi9I6lSb5uOI_vrg4Mb.s7OGE.bZVyQqq8DRtZJonFl.73RweSeXQRHt2IUfgec98IzYhbKIhDfX3OBx5IRsQRFds_r5T0jv0nHHGSF_JzvwJnq5uiAhXcAdHV6M1SfpNr6GoLpTGJrn95xSe6NM4KOUby3NVBsY1Lxxd7eYvuivTrjeiJZYIZCo07.sYCWzibU40ZLgxxqVS9KcPwGWKmdNWC8GRCThV2IQ7F4uhn13lDWAuou0ypO_UZr7gTBwRmMHLbTUnWgA.Oby3kBYql251NKYivKvF30wlO9RB575z32QoO8O1hklP8GWi.fQsoq3Ulwpa6Mwu5ugJtoKDgjn1sX3f7gug3T.kGQJ25icIrteHvO1hDuRpshjjR7jG7hbFmLXAiLRFimOytxQ3WnsL2Iv3agi6y1YRi3ggBtQqGY71GX8SjPQacEmUO195HoVy4RcQADq.DbnOWZnWD2RJH_PrIs6d.uySauA7g1HPdwvAIkIDwyJeCx0PE_SoiLe1JpnSnsFbp8QxY1c6Fc3XQN7YbRW3M5RWZLkM4ASmGn6XXTAC4f3uuMlLx_pRUVmnz2jDUizTxANhYhKzsvlj8ea_QPkySyznIBn8s7v.wLau2_Y8gH_WrNlqEY3puQ9deYFSKc_1FFwbJ_PpYpx_VGoTaR.HYVS2ejbh.BT52WeHluMWP2Kzrecv5uvQB5REB5z6v9iMMOvrZceFpO.pkSyHCUB238GmD6DM1pYjPKs5tDKgPM',mdrd: '',};var a = document.createElement('script');a.src = '/cdn-cgi/challenge-platform/h/b/orchestrate/chl_page/v1?ray=9771d15c9bee801c';window._cf_chl_opt.cOgUHash = location.hash === '' && location.href.indexOf('#') !== -1 ? '#' : location.hash;window._cf_chl_opt.cOgUQuery = location.search === '' && location.href.slice(0, location.href.length - window._cf_chl_opt.cOgUHash.length).indexOf('?') !== -1 ? '?' : location.search;if (window.history && window.history.replaceState) {var ogU = location.pathname + window._cf_chl_opt.cOgUQuery + window._cf_chl_opt.cOgUHash;history.replaceState(null, null,\"/remote-dev+python-jobs?__cf_chl_rt_tk=l3udeHpY..N9wxiLTD0xOlLRYUpAAIGwToKaER0xT3M-1756531004-1.0.1.1-eYSTm86NMRA0kI.pCRskzaRbCFjjK_.fyZkbS2Xca9g\"+ window._cf_chl_opt.cOgUHash);a.onload = function() {history.replaceState(null, null, ogU);}}document.getElementsByTagName('head')[0].appendChild(a);}());</script></body></html>\n"
     ]
    }
   ],
   "source": [
    "soup=BeautifulSoup(response.text,\"html.parser\")\n",
    "print(soup)"
   ]
  },
  {
   "cell_type": "code",
   "execution_count": 55,
   "id": "0029f4af-f2b5-45cc-a6b8-7c2ad4538573",
   "metadata": {},
   "outputs": [
    {
     "name": "stdout",
     "output_type": "stream",
     "text": [
      "[]\n",
      "found0 job posting\n"
     ]
    }
   ],
   "source": [
    "jobs=soup.find_all(\"tr\",class_=\"job\")\n",
    "print(jobs)\n",
    "print(f\"found{len(jobs)} job posting\")"
   ]
  },
  {
   "cell_type": "code",
   "execution_count": 56,
   "id": "5c512963-0783-43c8-a07f-335c1f9b1e88",
   "metadata": {},
   "outputs": [],
   "source": [
    "job_list=[] \n",
    "for job in jobs:\n",
    "    try:\n",
    "        title=job.find(\"h2\").text.strip()\n",
    "        company=job.find(\"h3\").text.strip()\n",
    "        link=\"http://remoteok.com\"+job.get(\"data-href\")\n",
    "        job_list.append({\n",
    "            \"Title\":title,\n",
    "            \"Company\":company,\n",
    "            \"Link\":link\n",
    "        })\n",
    "    except:\n",
    "        continue"
   ]
  },
  {
   "cell_type": "code",
   "execution_count": 57,
   "id": "84e3567c-6b24-4bcd-8e8e-4dedf43f8c3e",
   "metadata": {},
   "outputs": [
    {
     "name": "stdout",
     "output_type": "stream",
     "text": [
      "Empty DataFrame\n",
      "Columns: []\n",
      "Index: []\n"
     ]
    },
    {
     "data": {
      "text/plain": [
       "(0, 0)"
      ]
     },
     "execution_count": 57,
     "metadata": {},
     "output_type": "execute_result"
    }
   ],
   "source": [
    "df=pd.DataFrame(job_list)\n",
    "print(df.head())\n",
    "df.shape"
   ]
  },
  {
   "cell_type": "code",
   "execution_count": 58,
   "id": "e851cc5a-f91c-4471-841d-261665f5922b",
   "metadata": {},
   "outputs": [],
   "source": [
    "import os\n",
    "url=\"https://books.toscrape.com/\"\n",
    "headers = {\n",
    "    \"User-Agent\": \"Mozilla/5.0\"\n",
    "}\n",
    "\n",
    "    "
   ]
  },
  {
   "cell_type": "code",
   "execution_count": 59,
   "id": "ee1e9cde-3b60-4997-8732-2d4a21cb0091",
   "metadata": {},
   "outputs": [],
   "source": [
    "image_tags=soup.find_all(\"img\")\n",
    "image_urls=[]\n"
   ]
  },
  {
   "cell_type": "code",
   "execution_count": 60,
   "id": "847d1e09-4f3f-4169-9465-a5d3f99f569a",
   "metadata": {},
   "outputs": [
    {
     "name": "stdout",
     "output_type": "stream",
     "text": [
      "Downloaded 0 images.\n"
     ]
    }
   ],
   "source": [
    "os.makedirs(\"book_covers\",exist_ok=True)\n",
    "for i, img in enumerate(image_tags):\n",
    "    img_url = img.get(\"src\")\n",
    "   \n",
    "    full_url = \"https://books.toscrape.com/\" + img_url.replace(\"../\", \"\")\n",
    "    image_urls.append(full_url)\n",
    " \n",
    "    img_data = requests.get(full_url).content\n",
    "    with open(f\"book_covers/book_{i+1}.jpg\", \"wb\") as f:\n",
    "        f.write(img_data)\n",
    " \n",
    "print(f\"Downloaded {len(image_urls)} images.\")\n",
    " \n",
    "    "
   ]
  },
  {
   "cell_type": "code",
   "execution_count": 61,
   "id": "978cf0ba-93bb-4a23-838c-6910f86f1d80",
   "metadata": {},
   "outputs": [],
   "source": [
    "# -------------------------------\n",
    "# HTML Parser: Scraping Science Books\n",
    "# -------------------------------"
   ]
  },
  {
   "cell_type": "code",
   "execution_count": 62,
   "id": "b0546772-f504-45e9-96e3-9dab8bfe0883",
   "metadata": {},
   "outputs": [
    {
     "name": "stdout",
     "output_type": "stream",
     "text": [
      "                                               title  price  rating\n",
      "0  The Most Perfect Thing: Inside (and Outside) a...  42.96       4\n",
      "1  Immunity: How Elie Metchnikoff Changed the Cou...  57.36       5\n",
      "2  Sorting the Beef from the Bull: The Science of...  44.74       4\n",
      "3  Tipping Point for Planet Earth: How Close Are ...  37.55       1\n",
      "4  The Fabric of the Cosmos: Space, Time, and the...  55.91       1\n"
     ]
    }
   ],
   "source": [
    "##url = \"https://www.worldometers.info/world-population/population-by-country/\"\n",
    "import requests\n",
    "from bs4 import BeautifulSoup\n",
    "import pandas as pd\n",
    "import sqlite3\n",
    "import re\n",
    "\n",
    "url = \"http://books.toscrape.com/catalogue/category/books/science_22/index.html\"\n",
    "\n",
    "response = requests.get(url)\n",
    "soup = BeautifulSoup(response.text, 'html.parser')\n",
    "\n",
    "products = []\n",
    "for prod in soup.select('article.product_pod'):\n",
    "    title = prod.h3.a['title']\n",
    "    price_str = prod.select_one('p.price_color').text\n",
    "    rating_class = prod.p['class'][1] \n",
    "\n",
    "    rating_map = {'One': 1, 'Two': 2, 'Three': 3, 'Four': 4, 'Five': 5}\n",
    "    rating = rating_map.get(rating_class, 0)\n",
    "\n",
    "    price = float(re.sub(r'[^0-9.]', '', price_str))\n",
    "    \n",
    "    products.append({'title': title, 'price': price, 'rating': rating})\n",
    "\n",
    "df = pd.DataFrame(products)\n",
    "\n",
    "print(df.head())\n",
    " "
   ]
  },
  {
   "cell_type": "code",
   "execution_count": 63,
   "id": "66ef183d-2ae8-46f6-97b4-782a8f3c2fcb",
   "metadata": {},
   "outputs": [],
   "source": [
    "# -------------------------------\n",
    "# Table Scraping\n",
    "# -------------------------------\n",
    "# Extract Table Headers\n",
    "# -------------------------------\n",
    "# HTML Parser: Scraping Population by Country\n",
    "# -------------------------------"
   ]
  },
  {
   "cell_type": "code",
   "execution_count": 64,
   "id": "0789cc3c-ecb1-4d49-b8d1-7e7ebed0f130",
   "metadata": {},
   "outputs": [
    {
     "name": "stdout",
     "output_type": "stream",
     "text": [
      "            Countries Total population (thousands) Birth rate Mortality rate  \\\n",
      "0        Eastern Asia                    1,652,186        6.2            8.6   \n",
      "1  South-central Asia                    2,168,806       17.9            6.4   \n",
      "2  South-eastern Asia                      700,032       14.5            7.4   \n",
      "3        Western Asia                      314,297       19.0            4.8   \n",
      "4                ASIA                    4,835,320       13.5            7.2   \n",
      "\n",
      "  Life expectancy Infant mortality rate Number of children per woman  \\\n",
      "0            79.3                   5.8                         1.03   \n",
      "1            72.2                  25.6                         2.21   \n",
      "2            72.5                  17.2                         1.91   \n",
      "3            75.9                  16.3                         2.52   \n",
      "4            75.0                  20.3                         1.87   \n",
      "\n",
      "  Growth rate Share of people aged 65 and over (%)  \n",
      "0        -2.4                                 16.3  \n",
      "1        10.4                                  6.9  \n",
      "2         6.9                                  8.4  \n",
      "3        15.1                                  6.3  \n",
      "4         5.8                                 10.3  \n"
     ]
    }
   ],
   "source": [
    "import pandas as pd\n",
    "import urllib.request\n",
    "from bs4 import BeautifulSoup\n",
    "\n",
    "url_ined = 'http://www.ined.fr/en/everything_about_population/data/all-countries/?lst_continent=935&lst_pays=921'\n",
    "html = urllib.request.urlopen(url_ined).read()\n",
    "bs_obj = BeautifulSoup(html, 'lxml')\n",
    "\n",
    "table_obj = bs_obj.find_all('table')[0]\n",
    "col_names = []\n",
    "\n",
    "for th in table_obj.find_all('tr')[0]:\n",
    "    try:\n",
    "        col_names.append(th.text.strip())\n",
    "    except AttributeError:\n",
    "        continue\n",
    "\n",
    "data_list = []\n",
    "\n",
    "for table_row in table_obj.find_all('tr')[1:]:\n",
    "    row_values = []\n",
    "    for td in table_row:\n",
    "        try:\n",
    "            row_values.append(td.text.strip())\n",
    "        except AttributeError:\n",
    "            continue\n",
    "    if row_values:\n",
    "        data_list.append(row_values)\n",
    "\n",
    "df = pd.DataFrame(data_list, columns=col_names)\n",
    "print(df.head())"
   ]
  },
  {
   "cell_type": "code",
   "execution_count": null,
   "id": "120dcf94-5a82-4c3b-b247-811a7b739b35",
   "metadata": {},
   "outputs": [],
   "source": []
  }
 ],
 "metadata": {
  "kernelspec": {
   "display_name": "Python 3 (ipykernel)",
   "language": "python",
   "name": "python3"
  },
  "language_info": {
   "codemirror_mode": {
    "name": "ipython",
    "version": 3
   },
   "file_extension": ".py",
   "mimetype": "text/x-python",
   "name": "python",
   "nbconvert_exporter": "python",
   "pygments_lexer": "ipython3",
   "version": "3.12.7"
  }
 },
 "nbformat": 4,
 "nbformat_minor": 5
}
